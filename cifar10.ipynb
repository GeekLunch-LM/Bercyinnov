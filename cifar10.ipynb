{
  "nbformat": 4,
  "nbformat_minor": 0,
  "metadata": {
    "colab": {
      "name": "cifar10.ipynb",
      "provenance": [],
      "collapsed_sections": [],
      "include_colab_link": true
    },
    "kernelspec": {
      "name": "python3",
      "display_name": "Python 3"
    }
  },
  "cells": [
    {
      "cell_type": "markdown",
      "metadata": {
        "id": "view-in-github",
        "colab_type": "text"
      },
      "source": [
        "<a href=\"https://colab.research.google.com/github/GeekLunch-LM/Bercyinnov/blob/master/cifar10.ipynb\" target=\"_parent\"><img src=\"https://colab.research.google.com/assets/colab-badge.svg\" alt=\"Open In Colab\"/></a>"
      ]
    },
    {
      "cell_type": "markdown",
      "metadata": {
        "collapsed": true,
        "id": "_QRUIdpNgPhY",
        "colab_type": "text"
      },
      "source": [
        "\n",
        "\n",
        "# Introduction au _machine learning_ (et au _deep learning_)\n",
        "\n",
        "\n",
        "### Le machine learning, ce n'est pas que  pour les autres ! Un exemple simple et ludique !\n",
        "\n",
        "\n"
      ]
    },
    {
      "cell_type": "markdown",
      "metadata": {
        "id": "QcSEY6slgPhd",
        "colab_type": "text"
      },
      "source": [
        "## La preuve par l'exemple : Classification automatique d'images avec un peu de Deep Learning simplifié !\n"
      ]
    },
    {
      "cell_type": "markdown",
      "metadata": {
        "id": "VPWIvtBWgPhh",
        "colab_type": "text"
      },
      "source": [
        "### Si on peut faire ça en peu de temps, imaginez le potentiel sur nos propres données, avec un projet de quelques semaines ou de quelques mois, avec des compétences métiers et des solides compétences de traitement de la donnée."
      ]
    },
    {
      "cell_type": "markdown",
      "metadata": {
        "id": "549vzjCQgPhp",
        "colab_type": "text"
      },
      "source": [
        "Cette page web est un notebook _Jupyter_ qui permet d'exécuter du code sur un serveur distant. On lance des calculs sur le _cloud_  ! La démarche est simplifiée pour tenir en format atelier de 30 min. Pour un notebook plus complet, avec plus de propos explicatifs et plus d'exemples,  voir  https://notebooks.azure.com/jetzgetzlos-POC/libraries/POC-cat-classif/html/POC-cat.ipynb (notebook complet de l'atelier SGD de novembre 2017)\n",
        "\n",
        "** Ne vous formalisez pas sur le code ou sur les aspects trop théoriques du machine learning ** : l'idée est de maniper un peu, de voir qu'il est possible de lancer des modèles avec peu de lignes de codes, et non de devenir un expert en Machine learning. Donc pas de panique ! L'atelier sera accompagné d'explications orales et de quelques slides imagés pour comprendre le fonctionnement global."
      ]
    },
    {
      "cell_type": "markdown",
      "metadata": {
        "id": "TwJjgALtgPhw",
        "colab_type": "text"
      },
      "source": [
        "## La preuve par l'exemple : soyons fous, 50000 images, 10 classes\n",
        "\n",
        "#### Pourquoi Python ?\n",
        "\n",
        "Parce que Python offre plus de bibliothèques DeepLearning ... - désolé pour les fans de R :-)\n",
        "\n",
        "#### Les données\n",
        "\n",
        "On va utiliser ici la bibliothèque d'images CIFAR 10 (https://www.cs.toronto.edu/~kriz/cifar.html) composée de 60000 images 32x32 avec 10 classes d'images (6000 images par classe).\n",
        "\n",
        "![CIFAR](https://i0.wp.com/appliedmachinelearning.blog/wp-content/uploads/2018/03/cifar2.jpg?resize=427%2C325&ssl=1)\n",
        "\n",
        "Ces données ont fait l'objet d'un concours de datascience sur Kaggle : https://www.kaggle.com/c/cifar-10\n",
        "\n",
        "\n",
        "\n",
        "#### Les bibliothèques utilisées : Keras & Tensorflow \n",
        "\n",
        "On pourrait bien sûr tout développer nous-même mais nous n'aurions pas le temps dans la session de 30 minutes et il faudrait pour celà approfondir certains aspects théoriques. Il convient plutôt d'utiliser des bibliothèques existantes. La plus connue est **Tensorflow**, bibliothèque libre issue du laboratoire Google Brain. Nous allons aussi utiliser la bibliothèque **Keras** qui permet de masquer la complexité de Tensorflow en offrant une interface de plus haut niveau.\n",
        "\n",
        "\n",
        "\n",
        "#### Etape 1, charger les données\n",
        "\n"
      ]
    },
    {
      "cell_type": "code",
      "metadata": {
        "trusted": true,
        "id": "2eZobP0ZgPh1",
        "colab_type": "code",
        "outputId": "4dc50e93-6734-4d7d-9624-7f33569ef89f",
        "colab": {
          "base_uri": "https://localhost:8080/",
          "height": 88
        }
      },
      "source": [
        "import tensorflow.compat.v1 as tf\n",
        "tf.disable_v2_behavior()\n",
        "\n",
        "import keras\n",
        "from keras.datasets import cifar10\n",
        "from matplotlib import pyplot as plt\n",
        "#from scipy.misc import toimage\n",
        "import numpy as np\n",
        "\n",
        "from keras.models import Sequential\n",
        "from keras.layers import Dense, Activation\n",
        "from keras.layers import Dropout\n",
        "from keras.utils import np_utils\n",
        "from keras.utils import plot_model\n",
        "from keras.utils.vis_utils import model_to_dot\n",
        "from keras.preprocessing.image import ImageDataGenerator\n",
        "\n",
        "from keras.constraints import maxnorm\n",
        "from keras.layers.convolutional import Conv2D\n",
        "from keras.layers.convolutional import MaxPooling2D\n",
        "from keras.layers.convolutional import ZeroPadding2D\n",
        "from keras.layers import Dropout\n",
        "from keras.layers import Flatten\n",
        "\n",
        "\n",
        "from IPython.display import SVG\n",
        "from sklearn.metrics import confusion_matrix\n",
        "from PIL import Image\n"
      ],
      "execution_count": 0,
      "outputs": [
        {
          "output_type": "stream",
          "text": [
            "WARNING:tensorflow:From /usr/local/lib/python3.6/dist-packages/tensorflow_core/python/compat/v2_compat.py:68: disable_resource_variables (from tensorflow.python.ops.variable_scope) is deprecated and will be removed in a future version.\n",
            "Instructions for updating:\n",
            "non-resource variables are not supported in the long term\n"
          ],
          "name": "stdout"
        }
      ]
    },
    {
      "cell_type": "code",
      "metadata": {
        "trusted": true,
        "id": "90OZnOvSgPiD",
        "colab_type": "code",
        "outputId": "cb8a80a7-9a27-4b33-8038-66ab1b5bf3fe",
        "colab": {
          "base_uri": "https://localhost:8080/",
          "height": 51
        }
      },
      "source": [
        "# On charge les données ; il y a un dataset pour l'apprentissage et un autre pour les tests\n",
        "# en toute rigueur il faudrait couper le dataset en 2 pour le dev-test et le test ...\n",
        "(X_train_origin, Y_train_origin), (X_test_origin, Y_test_origin) = cifar10.load_data()"
      ],
      "execution_count": 0,
      "outputs": [
        {
          "output_type": "stream",
          "text": [
            "Downloading data from https://www.cs.toronto.edu/~kriz/cifar-10-python.tar.gz\n",
            "170500096/170498071 [==============================] - 2s 0us/step\n"
          ],
          "name": "stdout"
        }
      ]
    },
    {
      "cell_type": "code",
      "metadata": {
        "trusted": true,
        "id": "K8aLWZn4gPiO",
        "colab_type": "code",
        "colab": {}
      },
      "source": [
        "labels = ['avion', 'auto', 'oiseau','chat','cerf','chien','grenouille','cheval','navire','camion']"
      ],
      "execution_count": 0,
      "outputs": []
    },
    {
      "cell_type": "markdown",
      "metadata": {
        "id": "7gN2CvC-gPiX",
        "colab_type": "text"
      },
      "source": [
        "Chaque image est accompagnée d'un label qui indique sa nature (sa _classe_). L'objectif de la démarche est de construire un modèle qui va apprendre des données d'apprentissage (les images stockées dans la variable `X_train_origin` et les labels dans `Y_train_origin`). Ce modèle sera appliqué aux images de tests (`X_test`) pour _prédire_ leurs classes. Les prédictions seront ensuite comparées aux labels connus des images de test (`Y_test`) afin d'estimer la qualité du modèle."
      ]
    },
    {
      "cell_type": "code",
      "metadata": {
        "trusted": true,
        "id": "9qFMJf-lgPic",
        "colab_type": "code",
        "outputId": "5f05203d-94c2-4573-bfaa-e655e150ce45",
        "colab": {
          "base_uri": "https://localhost:8080/",
          "height": 139
        }
      },
      "source": [
        "# On affiche la 30ième image et son label\n",
        "plt.rcParams[\"figure.figsize\"] = (1,1)\n",
        "\n",
        "index = 30\n",
        "plt.imshow(Image.fromarray(X_train_origin[index]),)\n",
        "#plt.imshow(toimage(X_train_origin[index]),)\n",
        "plt.figure(figsize=(32,32))\n",
        "plt.show()\n",
        "print(\"Label: \"+ str(Y_train_origin[index]) + \"-\" + str(labels[int(Y_train_origin[index])]))\n"
      ],
      "execution_count": 0,
      "outputs": [
        {
          "output_type": "display_data",
          "data": {
            "image/png": "[encoded data removed]",
            "text/plain": [
              "<Figure size 72x72 with 1 Axes>"
            ]
          },
          "metadata": {
            "tags": []
          }
        },
        {
          "output_type": "display_data",
          "data": {
            "text/plain": [
              "<Figure size 2304x2304 with 0 Axes>"
            ]
          },
          "metadata": {
            "tags": []
          }
        },
        {
          "output_type": "stream",
          "text": [
            "Label: [0]-avion\n"
          ],
          "name": "stdout"
        }
      ]
    },
    {
      "cell_type": "code",
      "metadata": {
        "trusted": true,
        "id": "qMnDIagZgPiw",
        "colab_type": "code",
        "outputId": "aa523a8a-72c8-4775-bd95-e08ea7d8d9d6",
        "colab": {
          "base_uri": "https://localhost:8080/",
          "height": 122
        }
      },
      "source": [
        "# On affiche la 32ième image et son label\n",
        "index = 32\n",
        "plt.imshow(Image.fromarray(X_train_origin[index]),)\n",
        "plt.show()\n",
        "print(\"Label: \"+ str(Y_train_origin[index]) + \"-\" + str(labels[int(Y_train_origin[index])]))\n"
      ],
      "execution_count": 0,
      "outputs": [
        {
          "output_type": "display_data",
          "data": {
            "image/png": "[encoded data removed]",
            "text/plain": [
              "<Figure size 72x72 with 1 Axes>"
            ]
          },
          "metadata": {
            "tags": []
          }
        },
        {
          "output_type": "stream",
          "text": [
            "Label: [1]-auto\n"
          ],
          "name": "stdout"
        }
      ]
    },
    {
      "cell_type": "markdown",
      "metadata": {
        "id": "yFILbb3qgPjH",
        "colab_type": "text"
      },
      "source": [
        "#### Comprendre les données\n",
        "\n",
        "Quelle est la taille des variables `X_train`, `Y_train`, `X_test`, `Y_test` ?\n"
      ]
    },
    {
      "cell_type": "code",
      "metadata": {
        "trusted": true,
        "id": "JDr6PZpRgPjK",
        "colab_type": "code",
        "outputId": "0280535f-8f00-41ac-fed7-c9a49472f48a",
        "colab": {
          "base_uri": "https://localhost:8080/",
          "height": 34
        }
      },
      "source": [
        "print(X_train_origin.shape)"
      ],
      "execution_count": 0,
      "outputs": [
        {
          "output_type": "stream",
          "text": [
            "(50000, 32, 32, 3)\n"
          ],
          "name": "stdout"
        }
      ]
    },
    {
      "cell_type": "code",
      "metadata": {
        "trusted": true,
        "id": "_XksuZQ0gPjb",
        "colab_type": "code",
        "outputId": "405ad2dc-31e5-4ec2-95f0-2d584e40aebb",
        "colab": {
          "base_uri": "https://localhost:8080/",
          "height": 34
        }
      },
      "source": [
        "print(Y_train_origin.shape)"
      ],
      "execution_count": 0,
      "outputs": [
        {
          "output_type": "stream",
          "text": [
            "(50000, 1)\n"
          ],
          "name": "stdout"
        }
      ]
    },
    {
      "cell_type": "code",
      "metadata": {
        "trusted": true,
        "id": "cnOrUo6hgPjl",
        "colab_type": "code",
        "outputId": "d6407bc1-e59f-46f1-a07b-6b09bcaec549",
        "colab": {
          "base_uri": "https://localhost:8080/",
          "height": 34
        }
      },
      "source": [
        "print(X_test_origin.shape)"
      ],
      "execution_count": 0,
      "outputs": [
        {
          "output_type": "stream",
          "text": [
            "(10000, 32, 32, 3)\n"
          ],
          "name": "stdout"
        }
      ]
    },
    {
      "cell_type": "code",
      "metadata": {
        "trusted": true,
        "id": "6ozp3UErgPjw",
        "colab_type": "code",
        "outputId": "9adc354f-914b-41d3-c7b1-f1752d0e995e",
        "colab": {
          "base_uri": "https://localhost:8080/",
          "height": 34
        }
      },
      "source": [
        "print(Y_test_origin.shape)"
      ],
      "execution_count": 0,
      "outputs": [
        {
          "output_type": "stream",
          "text": [
            "(10000, 1)\n"
          ],
          "name": "stdout"
        }
      ]
    },
    {
      "cell_type": "markdown",
      "metadata": {
        "id": "5RzZ_jthgPj9",
        "colab_type": "text"
      },
      "source": [
        "Il y a 50000 images d'apprentissage et 10000 images de test.\n",
        "\n",
        "Les labels sont des vecteurs colonnes (des vecteurs). Le label de l'image n°i est `Y_train[i]`\n",
        "\n",
        "\n",
        "Chaque image est de taille (32, 32, 3). Il s'agit d'images 32*32 avec 3 niveaux de couleur (RVB)\n",
        "![image.png](https://raw.githubusercontent.com/rst-analytics/atelier-ml/master/Capture2.JPG) \n",
        "\n",
        "(source Deeplearning.ai, Andrew NG)\n",
        "\n",
        "\n",
        "Affichons d'ailleurs l'image n°30 pour s'en convaincre "
      ]
    },
    {
      "cell_type": "code",
      "metadata": {
        "trusted": true,
        "id": "LJJXRlm8gPkB",
        "colab_type": "code",
        "outputId": "603236ef-0f7e-4ac7-af3a-1f12a010b44a",
        "colab": {
          "base_uri": "https://localhost:8080/",
          "height": 850
        }
      },
      "source": [
        "print(X_train_origin[30])"
      ],
      "execution_count": 0,
      "outputs": [
        {
          "output_type": "stream",
          "text": [
            "[[[126 118 110]\n",
            "  [122 115 108]\n",
            "  [126 119 111]\n",
            "  ...\n",
            "  [124 118 106]\n",
            "  [120 114 102]\n",
            "  [117 111  99]]\n",
            "\n",
            " [[122 115 107]\n",
            "  [119 112 104]\n",
            "  [121 114 106]\n",
            "  ...\n",
            "  [124 118 106]\n",
            "  [122 116 104]\n",
            "  [117 111  99]]\n",
            "\n",
            " [[122 115 107]\n",
            "  [121 114 106]\n",
            "  [121 114 106]\n",
            "  ...\n",
            "  [126 120 108]\n",
            "  [123 117 105]\n",
            "  [121 115 103]]\n",
            "\n",
            " ...\n",
            "\n",
            " [[126 118 107]\n",
            "  [126 118 107]\n",
            "  [128 120 109]\n",
            "  ...\n",
            "  [133 125 114]\n",
            "  [122 114 103]\n",
            "  [114 106  95]]\n",
            "\n",
            " [[125 117 106]\n",
            "  [126 118 107]\n",
            "  [127 119 108]\n",
            "  ...\n",
            "  [128 120 109]\n",
            "  [121 113 102]\n",
            "  [114 106  95]]\n",
            "\n",
            " [[123 115 104]\n",
            "  [123 115 104]\n",
            "  [126 118 107]\n",
            "  ...\n",
            "  [128 119 109]\n",
            "  [126 118 107]\n",
            "  [121 113 102]]]\n"
          ],
          "name": "stdout"
        }
      ]
    },
    {
      "cell_type": "markdown",
      "metadata": {
        "id": "zgVHHD8WgPkQ",
        "colab_type": "text"
      },
      "source": [
        "#### Transformons nos images en vecteurs !\n",
        "\n",
        "L'idée est de transformer chaque image en un seul vecteur colonne, en concaténant les 3 matrices en une seule colonne\n",
        "![image.png](https://raw.githubusercontent.com/rst-analytics/atelier-ml/master/Capture4.JPG) (source Deeplearning.ai, Andrew NG)\n",
        "\n",
        "L'idée est de transformer notre matrice (50000, 32, 32, 3) en une matrice (50000, 32x32x3) c'est-à-dire en une matrice (50000, 3072)\n"
      ]
    },
    {
      "cell_type": "code",
      "metadata": {
        "trusted": true,
        "id": "HcKuK2BngPkT",
        "colab_type": "code",
        "outputId": "7e85eb9d-350b-4e33-cd8e-fce00c9211d6",
        "colab": {
          "base_uri": "https://localhost:8080/",
          "height": 51
        }
      },
      "source": [
        "m_train = X_train_origin.shape[0] #Nombre d'images d'apprentissage\n",
        "X_train = X_train_origin.reshape(m_train, -1)\n",
        "\n",
        "m_test = X_test_origin.shape[0] #Nombre d'images de test\n",
        "X_test = X_test_origin.reshape(m_test, -1)\n",
        "\n",
        "print(X_train.shape)\n",
        "print(X_test.shape)"
      ],
      "execution_count": 0,
      "outputs": [
        {
          "output_type": "stream",
          "text": [
            "(50000, 3072)\n",
            "(10000, 3072)\n"
          ],
          "name": "stdout"
        }
      ]
    },
    {
      "cell_type": "markdown",
      "metadata": {
        "id": "Jhj79KGzgPlB",
        "colab_type": "text"
      },
      "source": [
        "#### Normalisons les données\n",
        "\n",
        "Une traitement classique de _preprocessing_ des données en machine learning est de centrer et normaliser les données (on soustrait la moyenne et on divise par l'écart type). En traitement d'images, une autre technique efficace (plus simple et qui marche aussi bien) est de diviser l'ensemble des valeurs des pixels par 255 (la valeur maximale possible).\n",
        "\n",
        "https://stats.stackexchange.com/questions/211436/why-do-we-normalize-images-by-subtracting-the-datasets-image-mean-and-not-the-c\n",
        "\n",
        "\n",
        "![image.png](https://raw.githubusercontent.com/rst-analytics/atelier-ml/master/index.png) \n",
        "\n",
        "(Source : Hands-On Machine Learning with Scikit-Learn & TensorFlow, A. Guedon)"
      ]
    },
    {
      "cell_type": "code",
      "metadata": {
        "trusted": true,
        "id": "BLI_0y3dgPlD",
        "colab_type": "code",
        "colab": {}
      },
      "source": [
        "X_train = X_train/255\n",
        "X_test = X_test/255"
      ],
      "execution_count": 0,
      "outputs": []
    },
    {
      "cell_type": "markdown",
      "metadata": {
        "id": "0ic9DaC0gPlS",
        "colab_type": "text"
      },
      "source": [
        "### Transformons le vecteur de label en matrice\n",
        "\n",
        "L'idée est d'avoir 10 colonnes de labels par image (1 colonne pour chaque classe). C'est une astuce utile pour la suite. \n",
        "Ex : Si la classe de l'image n°i est la classe 7, on rempli la ligne i de la nouvelle matrice par des 0 sauf la colonne 6 qui contient 1. En effet, on commence à numéroter à 0 donc la 7ième colonne est la colonne n°6. "
      ]
    },
    {
      "cell_type": "code",
      "metadata": {
        "trusted": true,
        "id": "NkVD1NHRgPlV",
        "colab_type": "code",
        "outputId": "4d84b615-7662-4f2f-932f-84da10141823",
        "colab": {
          "base_uri": "https://localhost:8080/",
          "height": 34
        }
      },
      "source": [
        "num_classes = 10\n",
        "Y_train = np_utils.to_categorical(Y_train_origin)\n",
        "Y_test = np_utils.to_categorical(Y_test_origin)\n",
        "Y_train.shape"
      ],
      "execution_count": 0,
      "outputs": [
        {
          "output_type": "execute_result",
          "data": {
            "text/plain": [
              "(50000, 10)"
            ]
          },
          "metadata": {
            "tags": []
          },
          "execution_count": 13
        }
      ]
    },
    {
      "cell_type": "code",
      "metadata": {
        "trusted": true,
        "id": "p6gSs63_gPlh",
        "colab_type": "code",
        "outputId": "abab2226-52f9-4c16-8604-8d3f77710bae",
        "colab": {
          "base_uri": "https://localhost:8080/",
          "height": 68
        }
      },
      "source": [
        "print(Y_train_origin[56,]) #Label de l'image 56\n",
        "print(Y_train[56])\n",
        "print(str(labels[int(Y_train_origin[56])]))"
      ],
      "execution_count": 0,
      "outputs": [
        {
          "output_type": "stream",
          "text": [
            "[5]\n",
            "[0. 0. 0. 0. 0. 1. 0. 0. 0. 0.]\n",
            "chien\n"
          ],
          "name": "stdout"
        }
      ]
    },
    {
      "cell_type": "markdown",
      "metadata": {
        "id": "qh9DIRd7gPlp",
        "colab_type": "text"
      },
      "source": [
        "#### Reproduisons l'aléatoire\n",
        "\n",
        "L'algorithme va générer des valeurs initiales aléatoires pour les paramètres à estimer. La génération de nombres aléatoires n'est pas vraiment aléatoire sur un ordinateur ! Et il est important de pouvoir reproduire nos tests. Pour cela, on paramètre le seed qui est un chiffre qui permet d'initialiser le générateur de chiffres aléatoires ! Sur cette base, l'ordinateur générera des nombres aléatoires mais on pourra reproduire et retrouver ces chiffres par la suite (en théorie). On pourra regénérer en effet exactement les mêmes séquences de chiffres aléatoires."
      ]
    },
    {
      "cell_type": "code",
      "metadata": {
        "trusted": true,
        "id": "QlVyGoCAgPlv",
        "colab_type": "code",
        "colab": {}
      },
      "source": [
        "#Set seed\n",
        "seed = 112\n",
        "np.random.seed(seed)"
      ],
      "execution_count": 0,
      "outputs": []
    },
    {
      "cell_type": "markdown",
      "metadata": {
        "id": "rvXm66wYgPl6",
        "colab_type": "text"
      },
      "source": [
        "#### Premier réseau de neurone très simple (3 couches de 3 neurones)\n",
        "Pourquoi 3 couches de 3 neurones ? Et bein, pourquoi pas ! Il faut bien tester sur un premier modèle, non ?\n",
        "On pourrait faire 4 couches de respectivement 16, 32, 16 et 8 neurones. On peut faire ce qu'on veut !\n",
        "\n",
        "![image.png](https://raw.githubusercontent.com/rst-analytics/atelier-ml/master/nn33.jpg)"
      ]
    },
    {
      "cell_type": "code",
      "metadata": {
        "trusted": true,
        "id": "161aN4uwgPl8",
        "colab_type": "code",
        "outputId": "cc2b19a1-2329-4c6c-bd92-6762e8cb97c4",
        "colab": {
          "base_uri": "https://localhost:8080/",
          "height": 442
        }
      },
      "source": [
        "model = Sequential()\n",
        "model.add(Dense(units=3, input_dim=3072))   #3072 = taille de l'image en entrée = 32*32*3\n",
        "model.add(Activation('relu')) # Fonction d'activation non linéaire\n",
        "model.add(Dense(units=3))\n",
        "model.add(Activation('relu'))\n",
        "model.add(Dense(units=3))\n",
        "model.add(Activation('relu'))\n",
        "model.add(Dense(units=num_classes)) #En sortie, 10 outputs, une sortie par classe possible \n",
        "model.add(Activation('softmax'))   \n",
        "\n",
        "#La fonction softmax revoie la probabilité que l'image en entrée soit de la classe i\n",
        "#(i allant de 0 à 9)\n",
        "\n",
        "model.compile(optimizer='adam', loss=keras.losses.categorical_crossentropy,metrics=['accuracy'])\n",
        "#Adam = Algorithme très efficace d'optimisation ! Pour plus de détails : https://arxiv.org/pdf/1412.6980   ;-)\n",
        "# On utilise la fonction de coût entropie croisée\n",
        "\n",
        "print(model.summary())\n",
        "\n",
        "#SVG(model_to_dot(model,show_shapes=True).create(prog='dot', format='svg'))"
      ],
      "execution_count": 0,
      "outputs": [
        {
          "output_type": "stream",
          "text": [
            "Model: \"sequential_3\"\n",
            "_________________________________________________________________\n",
            "Layer (type)                 Output Shape              Param #   \n",
            "=================================================================\n",
            "dense_9 (Dense)              (None, 3)                 9219      \n",
            "_________________________________________________________________\n",
            "activation_9 (Activation)    (None, 3)                 0         \n",
            "_________________________________________________________________\n",
            "dense_10 (Dense)             (None, 3)                 12        \n",
            "_________________________________________________________________\n",
            "activation_10 (Activation)   (None, 3)                 0         \n",
            "_________________________________________________________________\n",
            "dense_11 (Dense)             (None, 3)                 12        \n",
            "_________________________________________________________________\n",
            "activation_11 (Activation)   (None, 3)                 0         \n",
            "_________________________________________________________________\n",
            "dense_12 (Dense)             (None, 10)                40        \n",
            "_________________________________________________________________\n",
            "activation_12 (Activation)   (None, 10)                0         \n",
            "=================================================================\n",
            "Total params: 9,283\n",
            "Trainable params: 9,283\n",
            "Non-trainable params: 0\n",
            "_________________________________________________________________\n",
            "None\n"
          ],
          "name": "stdout"
        }
      ]
    },
    {
      "cell_type": "markdown",
      "metadata": {
        "id": "R71JnT1jgPmX",
        "colab_type": "text"
      },
      "source": [
        "Notez qu'il y a 9283 paramètres à résoudre pour le réseau de neurones.\n",
        "\n",
        "\n",
        "Lançons la phase d'apprentissage. Il s'agit d'un processus itératif : on lance 10 itérations. On pourrait lancer l'algorithme et l'arrêter lorsqu'il ne s'améliore plus. On choisit ici arbitrairement 10 époques.\n",
        "On calcule progressivement l'ensemble des éléments, à chaque époque, en prenant les données d'apprentissage par paquet (batch) de 32 photos."
      ]
    },
    {
      "cell_type": "code",
      "metadata": {
        "trusted": true,
        "id": "9WvW8b9GgPmZ",
        "colab_type": "code",
        "outputId": "7a73bca1-97bf-401a-995c-e0ae1adde560",
        "colab": {
          "base_uri": "https://localhost:8080/",
          "height": 357
        }
      },
      "source": [
        "training = model.fit(X_train, Y_train, epochs=10, batch_size=32)"
      ],
      "execution_count": 0,
      "outputs": [
        {
          "output_type": "stream",
          "text": [
            "Epoch 1/10\n",
            "50000/50000 [==============================] - 4s 79us/step - loss: 2.1544 - acc: 0.1620\n",
            "Epoch 2/10\n",
            "50000/50000 [==============================] - 4s 73us/step - loss: 2.0728 - acc: 0.1846\n",
            "Epoch 3/10\n",
            "50000/50000 [==============================] - 4s 71us/step - loss: 2.0528 - acc: 0.1886\n",
            "Epoch 4/10\n",
            "50000/50000 [==============================] - 4s 73us/step - loss: 2.0436 - acc: 0.1935\n",
            "Epoch 5/10\n",
            "50000/50000 [==============================] - 4s 78us/step - loss: 2.0404 - acc: 0.1922\n",
            "Epoch 6/10\n",
            "50000/50000 [==============================] - 4s 78us/step - loss: 2.0365 - acc: 0.1937\n",
            "Epoch 7/10\n",
            "50000/50000 [==============================] - 4s 74us/step - loss: 2.0349 - acc: 0.1935\n",
            "Epoch 8/10\n",
            "50000/50000 [==============================] - 4s 71us/step - loss: 2.0340 - acc: 0.1946\n",
            "Epoch 9/10\n",
            "50000/50000 [==============================] - 4s 71us/step - loss: 2.0314 - acc: 0.1955\n",
            "Epoch 10/10\n",
            "50000/50000 [==============================] - 3s 70us/step - loss: 2.0313 - acc: 0.1944\n"
          ],
          "name": "stdout"
        }
      ]
    },
    {
      "cell_type": "code",
      "metadata": {
        "id": "mY4gLm6dhjZt",
        "colab_type": "code",
        "colab": {}
      },
      "source": [
        ""
      ],
      "execution_count": 0,
      "outputs": []
    },
    {
      "cell_type": "markdown",
      "metadata": {
        "id": "CuhWIouEgPmr",
        "colab_type": "text"
      },
      "source": [
        "pas terrible (mais c'est mieux que le hasard). Ca veut dire ici, que le modèle a permis de classifier correctement 20 % des données d'apprentissage (donc les données avec lesquelles il a appris). \n",
        "\n",
        "\n",
        "Regardons ce que donne le modèle sur les données de test, c'est-à-dire les données que le modèle n'a jamais vues :"
      ]
    },
    {
      "cell_type": "code",
      "metadata": {
        "trusted": true,
        "id": "GSmNpsFZgPm3",
        "colab_type": "code",
        "outputId": "4335f312-2a59-4c67-b833-a24b8af96071",
        "colab": {
          "base_uri": "https://localhost:8080/",
          "height": 34
        }
      },
      "source": [
        "scores = model.evaluate(X_test, Y_test, verbose=0)\n",
        "print(scores[1]*100)"
      ],
      "execution_count": 0,
      "outputs": [
        {
          "output_type": "stream",
          "text": [
            "19.07\n"
          ],
          "name": "stdout"
        }
      ]
    },
    {
      "cell_type": "markdown",
      "metadata": {
        "id": "K2CUv6t4gPnd",
        "colab_type": "text"
      },
      "source": [
        "Pareil; 20%; pas terrible !!"
      ]
    },
    {
      "cell_type": "markdown",
      "metadata": {
        "id": "i0MU8zXTgPnm",
        "colab_type": "text"
      },
      "source": [
        "####  Essayons sur un gros réseau de neurones (On fait du deep learning, après tout !!)\n",
        "\n",
        "Le deep learning, c'est la technique consistant à utiliser des gros réseaux de neurones. On va donc en utiliser un gros ; par exemple celui-ci."
      ]
    },
    {
      "cell_type": "code",
      "metadata": {
        "trusted": true,
        "id": "1ORORsWagPoU",
        "colab_type": "code",
        "outputId": "6c2419f8-f19b-4f64-b5b3-915628be61f6",
        "colab": {
          "base_uri": "https://localhost:8080/",
          "height": 646
        }
      },
      "source": [
        "# Create the model\n",
        "model = Sequential()\n",
        "model.add(Dense(units=128, input_dim=3072))\n",
        "model.add(Activation('relu'))\n",
        "model.add(Dense(units=128))\n",
        "model.add(Activation('relu'))\n",
        "model.add(Dense(units=64))\n",
        "model.add(Activation('relu'))\n",
        "model.add(Dense(units=32))\n",
        "model.add(Activation('relu'))\n",
        "model.add(Dense(units=32))\n",
        "model.add(Activation('relu'))\n",
        "model.add(Dense(units=16))\n",
        "model.add(Activation('relu'))\n",
        "model.add(Dense(units=num_classes))\n",
        "model.add(Activation('softmax'))\n",
        "\n",
        "model.compile(optimizer='adam', loss=keras.losses.categorical_crossentropy,metrics=['accuracy'])\n",
        "print(model.summary())\n",
        "\n",
        "#SVG(model_to_dot(model,show_shapes=True).create(prog='dot', format='svg'))\n",
        "\n",
        "\n",
        "\n",
        "\n"
      ],
      "execution_count": 0,
      "outputs": [
        {
          "output_type": "stream",
          "text": [
            "Model: \"sequential_4\"\n",
            "_________________________________________________________________\n",
            "Layer (type)                 Output Shape              Param #   \n",
            "=================================================================\n",
            "dense_13 (Dense)             (None, 128)               393344    \n",
            "_________________________________________________________________\n",
            "activation_13 (Activation)   (None, 128)               0         \n",
            "_________________________________________________________________\n",
            "dense_14 (Dense)             (None, 128)               16512     \n",
            "_________________________________________________________________\n",
            "activation_14 (Activation)   (None, 128)               0         \n",
            "_________________________________________________________________\n",
            "dense_15 (Dense)             (None, 64)                8256      \n",
            "_________________________________________________________________\n",
            "activation_15 (Activation)   (None, 64)                0         \n",
            "_________________________________________________________________\n",
            "dense_16 (Dense)             (None, 32)                2080      \n",
            "_________________________________________________________________\n",
            "activation_16 (Activation)   (None, 32)                0         \n",
            "_________________________________________________________________\n",
            "dense_17 (Dense)             (None, 32)                1056      \n",
            "_________________________________________________________________\n",
            "activation_17 (Activation)   (None, 32)                0         \n",
            "_________________________________________________________________\n",
            "dense_18 (Dense)             (None, 16)                528       \n",
            "_________________________________________________________________\n",
            "activation_18 (Activation)   (None, 16)                0         \n",
            "_________________________________________________________________\n",
            "dense_19 (Dense)             (None, 10)                170       \n",
            "_________________________________________________________________\n",
            "activation_19 (Activation)   (None, 10)                0         \n",
            "=================================================================\n",
            "Total params: 421,946\n",
            "Trainable params: 421,946\n",
            "Non-trainable params: 0\n",
            "_________________________________________________________________\n",
            "None\n"
          ],
          "name": "stdout"
        }
      ]
    },
    {
      "cell_type": "markdown",
      "metadata": {
        "id": "IprfszLogPok",
        "colab_type": "text"
      },
      "source": [
        "On a un peu plus de paramètres à établir (422K) ... Essayons."
      ]
    },
    {
      "cell_type": "code",
      "metadata": {
        "trusted": true,
        "id": "952bRDmAgPol",
        "colab_type": "code",
        "outputId": "bc526001-c598-4d4d-c433-6bfbafffb5d9",
        "colab": {
          "base_uri": "https://localhost:8080/",
          "height": 374
        }
      },
      "source": [
        "model.fit(X_train, Y_train, epochs=10, batch_size=32)"
      ],
      "execution_count": 0,
      "outputs": [
        {
          "output_type": "stream",
          "text": [
            "Epoch 1/10\n",
            "50000/50000 [==============================] - 14s 284us/step - loss: 1.9858 - acc: 0.2612\n",
            "Epoch 2/10\n",
            "50000/50000 [==============================] - 14s 274us/step - loss: 1.7683 - acc: 0.3576\n",
            "Epoch 3/10\n",
            "50000/50000 [==============================] - 14s 271us/step - loss: 1.6875 - acc: 0.3922\n",
            "Epoch 4/10\n",
            "50000/50000 [==============================] - 13s 266us/step - loss: 1.6276 - acc: 0.4154\n",
            "Epoch 5/10\n",
            "50000/50000 [==============================] - 13s 258us/step - loss: 1.5818 - acc: 0.4305\n",
            "Epoch 6/10\n",
            "50000/50000 [==============================] - 13s 265us/step - loss: 1.5474 - acc: 0.4437\n",
            "Epoch 7/10\n",
            "50000/50000 [==============================] - 13s 267us/step - loss: 1.5153 - acc: 0.4552\n",
            "Epoch 8/10\n",
            "50000/50000 [==============================] - 13s 263us/step - loss: 1.4905 - acc: 0.4666\n",
            "Epoch 9/10\n",
            "50000/50000 [==============================] - 14s 272us/step - loss: 1.4675 - acc: 0.4737\n",
            "Epoch 10/10\n",
            "50000/50000 [==============================] - 13s 267us/step - loss: 1.4516 - acc: 0.4793\n"
          ],
          "name": "stdout"
        },
        {
          "output_type": "execute_result",
          "data": {
            "text/plain": [
              "<keras.callbacks.History at 0x7f71dcc31978>"
            ]
          },
          "metadata": {
            "tags": []
          },
          "execution_count": 28
        }
      ]
    },
    {
      "cell_type": "code",
      "metadata": {
        "trusted": true,
        "id": "uCz1lnAngPoy",
        "colab_type": "code",
        "outputId": "296245ab-bc47-4645-bc95-43708b50ab78",
        "colab": {
          "base_uri": "https://localhost:8080/",
          "height": 34
        }
      },
      "source": [
        "scores = model.evaluate(X_test, Y_test, verbose=1)\n"
      ],
      "execution_count": 0,
      "outputs": [
        {
          "output_type": "stream",
          "text": [
            "10000/10000 [==============================] - 1s 72us/step\n"
          ],
          "name": "stdout"
        }
      ]
    },
    {
      "cell_type": "code",
      "metadata": {
        "trusted": true,
        "id": "m6It4b4YgPo6",
        "colab_type": "code",
        "outputId": "a29d6e3a-c1e6-4d86-b0dd-5d524f897fd4",
        "colab": {
          "base_uri": "https://localhost:8080/",
          "height": 34
        }
      },
      "source": [
        "print(scores[1])\n"
      ],
      "execution_count": 0,
      "outputs": [
        {
          "output_type": "stream",
          "text": [
            "0.4728\n"
          ],
          "name": "stdout"
        }
      ]
    },
    {
      "cell_type": "markdown",
      "metadata": {
        "id": "z-uNKMVhgPo_",
        "colab_type": "text"
      },
      "source": [
        "*~ 50 %* de bonnes classifications !! en utilisant un réseau de neurones simple (mais très profond, merci la puissance de calcul de Google !!) et sans trop d'effort de paramétrage !\n",
        "\n",
        "La différence entre la classification sur les données d'apprentissage  et celle de test montre un sur-apprentissage à ce stade."
      ]
    },
    {
      "cell_type": "markdown",
      "metadata": {
        "id": "gWlTW06cgPpB",
        "colab_type": "text"
      },
      "source": [
        "#### Essayons d'analyser les mauvaises classifications !!"
      ]
    },
    {
      "cell_type": "code",
      "metadata": {
        "trusted": true,
        "id": "f4zUXYw1gPpC",
        "colab_type": "code",
        "outputId": "810660b7-4b56-4887-d82a-5f5980a717c4",
        "colab": {
          "base_uri": "https://localhost:8080/",
          "height": 1000
        }
      },
      "source": [
        "y_pred_proba = model.predict(X_test)*100\n",
        "y_pred_bin=np.argmax(y_pred_proba,axis=-1)\n",
        "y_pred = np_utils.to_categorical(y_pred_bin)\n",
        "\n",
        "for i in range(0, 20):\n",
        "    print(y_pred_proba[i])\n",
        "    print(\"prediction : \" + str(labels[int(y_pred_bin[i])]))\n",
        "    print(\"label vrai : \" + str(labels[int(Y_test_origin[i])]))\n",
        "    plt.imshow(Image.fromarray(X_test_origin[i]),)\n",
        "    #plt.imshow(toimage(X_test_origin[i]),)\n",
        "    plt.show()\n",
        "    \n"
      ],
      "execution_count": 0,
      "outputs": [
        {
          "output_type": "stream",
          "text": [
            "[ 1.873027  10.474337   2.6332188 38.660606   4.397809  20.611921\n",
            "  5.354822   1.7103384  3.1871543 11.09677  ]\n",
            "prediction : chat\n",
            "label vrai : chat\n"
          ],
          "name": "stdout"
        },
        {
          "output_type": "display_data",
          "data": {
            "image/png": "[encoded data removed]",
            "text/plain": [
              "<Figure size 72x72 with 1 Axes>"
            ]
          },
          "metadata": {
            "tags": []
          }
        },
        {
          "output_type": "stream",
          "text": [
            "[3.8374934e+00 2.2487663e+01 3.6903538e-02 7.1183413e-02 3.9608218e-02\n",
            " 2.6554119e-02 3.2834378e-03 2.8217101e-01 8.6857281e+00 6.4529404e+01]\n",
            "prediction : camion\n",
            "label vrai : navire\n"
          ],
          "name": "stdout"
        },
        {
          "output_type": "display_data",
          "data": {
            "image/png": "[encoded data removed]",
            "text/plain": [
              "<Figure size 72x72 with 1 Axes>"
            ]
          },
          "metadata": {
            "tags": []
          }
        },
        {
          "output_type": "stream",
          "text": [
            "[1.8509480e+01 1.6111826e+01 3.6820695e-01 3.2011098e-01 2.7324170e-01\n",
            " 1.4101495e-01 1.8839695e-02 8.9805442e-01 2.6789055e+01 3.6570164e+01]\n",
            "prediction : camion\n",
            "label vrai : navire\n"
          ],
          "name": "stdout"
        },
        {
          "output_type": "display_data",
          "data": {
            "image/png": "[encoded data removed]",
            "text/plain": [
              "<Figure size 72x72 with 1 Axes>"
            ]
          },
          "metadata": {
            "tags": []
          }
        },
        {
          "output_type": "stream",
          "text": [
            "[20.785088   4.2050734 12.456913   5.40977   12.379019   4.2056375\n",
            "  1.7675419  6.166398  28.423409   4.201157 ]\n",
            "prediction : navire\n",
            "label vrai : avion\n"
          ],
          "name": "stdout"
        },
        {
          "output_type": "display_data",
          "data": {
            "image/png": "[encoded data removed]",
            "text/plain": [
              "<Figure size 72x72 with 1 Axes>"
            ]
          },
          "metadata": {
            "tags": []
          }
        },
        {
          "output_type": "stream",
          "text": [
            "[1.4190251e-01 1.6255654e-02 8.9259214e+00 1.0153272e+00 7.0501778e+01\n",
            " 9.8684579e-01 1.7938412e+01 4.4712266e-01 2.3069203e-02 3.3736266e-03]\n",
            "prediction : cerf\n",
            "label vrai : grenouille\n"
          ],
          "name": "stdout"
        },
        {
          "output_type": "display_data",
          "data": {
            "image/png": "[encoded data removed]",
            "text/plain": [
              "<Figure size 72x72 with 1 Axes>"
            ]
          },
          "metadata": {
            "tags": []
          }
        },
        {
          "output_type": "stream",
          "text": [
            "[ 0.6452966  0.3958974  5.3058634 12.264876   9.276842   5.6670437\n",
            " 63.163097   1.9816614  0.108052   1.1913719]\n",
            "prediction : grenouille\n",
            "label vrai : grenouille\n"
          ],
          "name": "stdout"
        },
        {
          "output_type": "display_data",
          "data": {
            "image/png": "[encoded data removed]",
            "text/plain": [
              "<Figure size 72x72 with 1 Axes>"
            ]
          },
          "metadata": {
            "tags": []
          }
        },
        {
          "output_type": "stream",
          "text": [
            "[11.619956  12.918682   9.392621  24.862312   1.9493839 20.515095\n",
            "  3.6032305  2.730798   2.8446205  9.563305 ]\n",
            "prediction : chat\n",
            "label vrai : auto\n"
          ],
          "name": "stdout"
        },
        {
          "output_type": "display_data",
          "data": {
            "image/png": "[encoded data removed]",
            "text/plain": [
              "<Figure size 72x72 with 1 Axes>"
            ]
          },
          "metadata": {
            "tags": []
          }
        },
        {
          "output_type": "stream",
          "text": [
            "[ 2.3224988  1.7528524 14.427632  11.224942  13.593025   8.585007\n",
            " 43.151398   2.824705   0.7996218  1.3183186]\n",
            "prediction : grenouille\n",
            "label vrai : grenouille\n"
          ],
          "name": "stdout"
        },
        {
          "output_type": "display_data",
          "data": {
            "image/png": "[encoded data removed]",
            "text/plain": [
              "<Figure size 72x72 with 1 Axes>"
            ]
          },
          "metadata": {
            "tags": []
          }
        },
        {
          "output_type": "stream",
          "text": [
            "[ 3.9732866   0.35040528 41.191284    7.208527   16.351776   18.248474\n",
            "  1.667288    9.673704    1.2670401   0.06821574]\n",
            "prediction : oiseau\n",
            "label vrai : chat\n"
          ],
          "name": "stdout"
        },
        {
          "output_type": "display_data",
          "data": {
            "image/png": "[encoded data removed]",
            "text/plain": [
              "<Figure size 72x72 with 1 Axes>"
            ]
          },
          "metadata": {
            "tags": []
          }
        },
        {
          "output_type": "stream",
          "text": [
            "[ 2.438108   74.23146     0.72555053  1.7311388   0.5397449   1.3168938\n",
            "  0.28891745  0.3283657   5.754709   12.645109  ]\n",
            "prediction : auto\n",
            "label vrai : auto\n"
          ],
          "name": "stdout"
        },
        {
          "output_type": "display_data",
          "data": {
            "image/png": "[encoded data removed]",
            "text/plain": [
              "<Figure size 72x72 with 1 Axes>"
            ]
          },
          "metadata": {
            "tags": []
          }
        },
        {
          "output_type": "stream",
          "text": [
            "[13.784991   1.6958723 10.003684  13.361456   3.672853  12.653966\n",
            "  2.0833395  1.640902  39.99295    1.1099913]\n",
            "prediction : navire\n",
            "label vrai : avion\n"
          ],
          "name": "stdout"
        },
        {
          "output_type": "display_data",
          "data": {
            "image/png": "[encoded data removed]",
            "text/plain": [
              "<Figure size 72x72 with 1 Axes>"
            ]
          },
          "metadata": {
            "tags": []
          }
        },
        {
          "output_type": "stream",
          "text": [
            "[2.6345944e-01 1.5260903e+01 1.2387142e-02 2.2159976e-01 7.7793024e-02\n",
            " 5.7538684e-02 3.6694821e-02 2.5827989e-01 2.9507442e+00 8.0860596e+01]\n",
            "prediction : camion\n",
            "label vrai : camion\n"
          ],
          "name": "stdout"
        },
        {
          "output_type": "display_data",
          "data": {
            "image/png": "[encoded data removed]",
            "text/plain": [
              "<Figure size 72x72 with 1 Axes>"
            ]
          },
          "metadata": {
            "tags": []
          }
        },
        {
          "output_type": "stream",
          "text": [
            "[ 4.492323   9.631325  12.796707  13.234578   7.830335  16.271374\n",
            "  7.7967825 17.346188   1.8699868  8.730399 ]\n",
            "prediction : cheval\n",
            "label vrai : chien\n"
          ],
          "name": "stdout"
        },
        {
          "output_type": "display_data",
          "data": {
            "image/png": "[encoded data removed]",
            "text/plain": [
              "<Figure size 72x72 with 1 Axes>"
            ]
          },
          "metadata": {
            "tags": []
          }
        },
        {
          "output_type": "stream",
          "text": [
            "[6.7936057e-01 2.0115516e+00 1.5044069e+00 2.3136583e-01 2.8561357e-01\n",
            " 1.1867052e+00 1.0933869e-02 9.2962051e+01 2.0629132e-02 1.1073817e+00]\n",
            "prediction : cheval\n",
            "label vrai : cheval\n"
          ],
          "name": "stdout"
        },
        {
          "output_type": "display_data",
          "data": {
            "image/png": "[encoded data removed]",
            "text/plain": [
              "<Figure size 72x72 with 1 Axes>"
            ]
          },
          "metadata": {
            "tags": []
          }
        },
        {
          "output_type": "stream",
          "text": [
            "[ 9.092784   25.910517    2.1824408   1.4749124   2.139854    0.7378047\n",
            "  0.84109807  4.8774986   2.297868   50.44522   ]\n",
            "prediction : camion\n",
            "label vrai : camion\n"
          ],
          "name": "stdout"
        },
        {
          "output_type": "display_data",
          "data": {
            "image/png": "[encoded data removed]",
            "text/plain": [
              "<Figure size 72x72 with 1 Axes>"
            ]
          },
          "metadata": {
            "tags": []
          }
        },
        {
          "output_type": "stream",
          "text": [
            "[ 4.7939873   0.8778918  18.466991   10.872174   28.181435    8.942952\n",
            " 13.523041    3.3448443  10.471144    0.52554744]\n",
            "prediction : cerf\n",
            "label vrai : navire\n"
          ],
          "name": "stdout"
        },
        {
          "output_type": "display_data",
          "data": {
            "image/png": "[encoded data removed]",
            "text/plain": [
              "<Figure size 72x72 with 1 Axes>"
            ]
          },
          "metadata": {
            "tags": []
          }
        },
        {
          "output_type": "stream",
          "text": [
            "[ 1.9919287   6.892252    2.8436394  17.841278    0.7399293  25.536097\n",
            "  1.0736742  23.869299    0.32822502 18.883675  ]\n",
            "prediction : chien\n",
            "label vrai : chien\n"
          ],
          "name": "stdout"
        },
        {
          "output_type": "display_data",
          "data": {
            "image/png": "[encoded data removed]",
            "text/plain": [
              "<Figure size 72x72 with 1 Axes>"
            ]
          },
          "metadata": {
            "tags": []
          }
        },
        {
          "output_type": "stream",
          "text": [
            "[ 2.3191156  1.7256936  4.5875382 31.220171  11.900812  10.763404\n",
            " 23.114256   4.0775323  1.5726318  8.718843 ]\n",
            "prediction : chat\n",
            "label vrai : cheval\n"
          ],
          "name": "stdout"
        },
        {
          "output_type": "display_data",
          "data": {
            "image/png": "[encoded data removed]",
            "text/plain": [
              "<Figure size 72x72 with 1 Axes>"
            ]
          },
          "metadata": {
            "tags": []
          }
        },
        {
          "output_type": "stream",
          "text": [
            "[4.0816841e+00 4.7690144e+00 7.6503359e-02 1.3232039e-01 2.0421860e-01\n",
            " 4.1158643e-02 1.0374814e-02 8.0686681e-02 8.4215157e+01 6.3888865e+00]\n",
            "prediction : navire\n",
            "label vrai : navire\n"
          ],
          "name": "stdout"
        },
        {
          "output_type": "display_data",
          "data": {
            "image/png": "[encoded data removed]",
            "text/plain": [
              "<Figure size 72x72 with 1 Axes>"
            ]
          },
          "metadata": {
            "tags": []
          }
        },
        {
          "output_type": "stream",
          "text": [
            "[ 0.75865114  1.8483367   7.5200753  13.6441555   3.9809856  14.288235\n",
            " 31.126081   21.777601    0.05393855  5.0019407 ]\n",
            "prediction : grenouille\n",
            "label vrai : grenouille\n"
          ],
          "name": "stdout"
        },
        {
          "output_type": "display_data",
          "data": {
            "image/png": "[encoded data removed]",
            "text/plain": [
              "<Figure size 72x72 with 1 Axes>"
            ]
          },
          "metadata": {
            "tags": []
          }
        }
      ]
    },
    {
      "cell_type": "code",
      "metadata": {
        "scrolled": true,
        "trusted": true,
        "id": "yIaCh9y6gPpJ",
        "colab_type": "code",
        "outputId": "cfefe57a-1c65-4ac3-d920-0de53cb206b7",
        "colab": {
          "base_uri": "https://localhost:8080/",
          "height": 187
        }
      },
      "source": [
        "#matrice de confusion\n",
        "\n",
        "conf = confusion_matrix(Y_test_origin,y_pred_bin)/1000*100\n",
        "print(conf)"
      ],
      "execution_count": 0,
      "outputs": [
        {
          "output_type": "stream",
          "text": [
            "[[45.2  3.4  9.4  4.4  2.5  1.6  3.2  5.1 13.5 11.7]\n",
            " [ 2.1 54.9  1.3  2.1  0.9  1.7  2.3  3.4  4.8 26.5]\n",
            " [ 5.3  2.6 27.1  7.1 17.9  9.2 17.1  9.4  2.1  2.2]\n",
            " [ 1.6  1.3  8.2 31.4  6.9 15.9 19.2  5.5  2.   8. ]\n",
            " [ 4.6  1.3 10.3  6.7 42.6  3.2 16.5 10.   2.   2.8]\n",
            " [ 1.2  1.3  8.3 23.6  6.8 31.  13.5  8.   1.9  4.4]\n",
            " [ 0.5  1.   3.5  7.7 14.   3.2 60.6  3.1  0.8  5.6]\n",
            " [ 2.   1.6  4.6  7.5  7.1  8.3  4.4 55.4  0.7  8.4]\n",
            " [ 7.6  6.1  2.3  2.7  2.2  2.4  1.7  1.6 55.7 17.7]\n",
            " [ 2.8 12.1  0.4  4.   0.7  1.7  2.4  4.7  2.3 68.9]]\n"
          ],
          "name": "stdout"
        }
      ]
    },
    {
      "cell_type": "code",
      "metadata": {
        "trusted": true,
        "id": "77bq6eAcgPpP",
        "colab_type": "code",
        "outputId": "7128adfd-02a4-4a86-e944-34458aa9af04",
        "colab": {
          "base_uri": "https://localhost:8080/",
          "height": 591
        }
      },
      "source": [
        "fig = plt.figure()\n",
        "fig, ax = plt.subplots(figsize=(10,10))\n",
        "cax = ax.matshow(conf)\n",
        "fig.colorbar(cax)\n",
        "\n",
        "ax.set_xlabel('Predicton')\n",
        "ax.set_ylabel('Vrai')\n",
        "\n",
        "yticks = [0,1,2,3,4,5,6,7,8,9]\n",
        "xticks = [0,1,2,3,4,5,6,7,8,9]\n",
        "ax.set_yticks(yticks)\n",
        "ax.set_xticks(yticks)\n",
        "ax.set_xticklabels(labels)\n",
        "ax.set_yticklabels(labels)\n",
        "\n",
        "plt.show()"
      ],
      "execution_count": 0,
      "outputs": [
        {
          "output_type": "display_data",
          "data": {
            "text/plain": [
              "<Figure size 72x72 with 0 Axes>"
            ]
          },
          "metadata": {
            "tags": []
          }
        },
        {
          "output_type": "display_data",
          "data": {
            "image/png": "[encoded data removed]",
            "text/plain": [
              "<Figure size 720x720 with 2 Axes>"
            ]
          },
          "metadata": {
            "tags": []
          }
        }
      ]
    },
    {
      "cell_type": "markdown",
      "metadata": {
        "id": "TbBM0jEqgPpc",
        "colab_type": "text"
      },
      "source": [
        "#### Avec un réseau de neurone plus évolué : Un CNN (_Convolutional neural network_) "
      ]
    },
    {
      "cell_type": "markdown",
      "metadata": {
        "collapsed": true,
        "id": "RHS-vcsmgPpp",
        "colab_type": "text"
      },
      "source": [
        "Oui, car on est là 2 fois moins bon que les meilleurs qui atteignent les 98%. On va essayer un CNN : il s'agit d'utiliser des algorithmes dits de convolution qui sont des filtres chargés de mettre en évidence certaines caractéristiques des images puis des techniques de pooling pour réduire le nombre de paramètres à résoudre. \n",
        "\n",
        "![image.png](https://raw.githubusercontent.com/rst-analytics/atelier-ml/master/Capture5.JPG) \n",
        "\n",
        "(source Matlab - Introducing Deep Learning)\n",
        "\n",
        "Voir https://hackernoon.com/visualizing-parts-of-convolutional-neural-networks-using-keras-and-cats-5cc01b214e59\n"
      ]
    },
    {
      "cell_type": "markdown",
      "metadata": {
        "id": "_hwkoQM4gPpu",
        "colab_type": "text"
      },
      "source": [
        "#### Test avec un CNNS classique (modèles à 16 couches d'Oxford - VGG16)\n",
        "\n",
        "Ce modèle est célèbre pour avoir gagné le challenge ImageNet 2014 (classification de 1000 classes sur 14 millions d'images, 92,7% de précision).\n",
        "\n"
      ]
    },
    {
      "cell_type": "markdown",
      "metadata": {
        "collapsed": true,
        "id": "F0AMIzupgPpv",
        "colab_type": "text"
      },
      "source": [
        "##### Le modèle (avec des optimisations agressives : Régularisation L2 + dropout)\n",
        "\n",
        "\n"
      ]
    },
    {
      "cell_type": "markdown",
      "metadata": {
        "collapsed": true,
        "id": "aGpI0724gPpx",
        "colab_type": "text"
      },
      "source": [
        "A ce stade, il n'est pas nécessaire de discuter des techiques de régularisation ou de dropout. Ce sont des techniques d'optimisation permettant d'éviter ou de réduire l'_overfitting_ c'est-à-dire le sur-apprentissage : C'est ce qui apparaît lorsque le modèle est trop calqué sur les données d'apprentissage et est incapable de généraliser pour être efficace avec des données qu'il n'a jamais vu auparavant.  \n",
        "\n",
        "![VGG](https://blog.keras.io/img/imgclf/vgg16_original.png) (source https://blog.keras.io/building-powerful-image-classification-models-using-very-little-data.html)\n",
        "\n",
        "\n",
        "\n",
        "\n",
        "En savoir plus sur le modèle VGG16 (by VGG at Oxford under the Creative Commons Attribution License) :\n",
        "\n",
        "* l'article “Very Deep Convolutional Networks for Large-Scale Image Recognition” de  K. Simonyan and A. Zisserman (University of Oxford) : https://arxiv.org/pdf/1409.1556https://arxiv.org/pdf/1409.1556  \n",
        "* https://keras.io/applications/#vgg16\n",
        "\n",
        "\n",
        "\n"
      ]
    },
    {
      "cell_type": "markdown",
      "metadata": {
        "id": "99nAQHbdgPpz",
        "colab_type": "text"
      },
      "source": [
        "#### Implémentons le modèle"
      ]
    },
    {
      "cell_type": "code",
      "metadata": {
        "trusted": true,
        "id": "4r7CozCpgPp0",
        "colab_type": "code",
        "outputId": "758316b8-1b99-49cb-950e-4dd412ed1c53",
        "colab": {
          "base_uri": "https://localhost:8080/",
          "height": 1000
        }
      },
      "source": [
        "#Inspiré de https://github.com/geifmany/cifar-vgg/blob/master/cifar10vgg.py\n",
        "\n",
        "from keras import regularizers\n",
        "from keras.layers import BatchNormalization\n",
        "\n",
        "model = Sequential()\n",
        "weight_decay = 0.0005\n",
        "\n",
        "model.add(Conv2D(64, (3, 3), padding='same',\n",
        "                         input_shape=(32,32,3),kernel_regularizer=regularizers.l2(weight_decay)))\n",
        "model.add(Activation('relu'))\n",
        "model.add(BatchNormalization())\n",
        "model.add(Dropout(0.3))\n",
        "\n",
        "model.add(Conv2D(64, (3, 3), padding='same',kernel_regularizer=regularizers.l2(weight_decay)))\n",
        "model.add(Activation('relu'))\n",
        "model.add(BatchNormalization())\n",
        "\n",
        "model.add(MaxPooling2D(pool_size=(2, 2)))\n",
        "\n",
        "model.add(Conv2D(128, (3, 3), padding='same',kernel_regularizer=regularizers.l2(weight_decay)))\n",
        "model.add(Activation('relu'))\n",
        "model.add(BatchNormalization())\n",
        "model.add(Dropout(0.4))\n",
        "\n",
        "model.add(Conv2D(128, (3, 3), padding='same',kernel_regularizer=regularizers.l2(weight_decay)))\n",
        "model.add(Activation('relu'))\n",
        "model.add(BatchNormalization())\n",
        "\n",
        "model.add(MaxPooling2D(pool_size=(2, 2)))\n",
        "\n",
        "model.add(Conv2D(256, (3, 3), padding='same',kernel_regularizer=regularizers.l2(weight_decay)))\n",
        "model.add(Activation('relu'))\n",
        "model.add(BatchNormalization())\n",
        "model.add(Dropout(0.4))\n",
        "\n",
        "model.add(Conv2D(256, (3, 3), padding='same',kernel_regularizer=regularizers.l2(weight_decay)))\n",
        "model.add(Activation('relu'))\n",
        "model.add(BatchNormalization())\n",
        "model.add(Dropout(0.4))\n",
        "\n",
        "model.add(Conv2D(256, (3, 3), padding='same',kernel_regularizer=regularizers.l2(weight_decay)))\n",
        "model.add(Activation('relu'))\n",
        "model.add(BatchNormalization())\n",
        "\n",
        "model.add(MaxPooling2D(pool_size=(2, 2)))\n",
        "\n",
        "\n",
        "model.add(Conv2D(512, (3, 3), padding='same',kernel_regularizer=regularizers.l2(weight_decay)))\n",
        "model.add(Activation('relu'))\n",
        "model.add(BatchNormalization())\n",
        "model.add(Dropout(0.4))\n",
        "\n",
        "model.add(Conv2D(512, (3, 3), padding='same',kernel_regularizer=regularizers.l2(weight_decay)))\n",
        "model.add(Activation('relu'))\n",
        "model.add(BatchNormalization())\n",
        "model.add(Dropout(0.4))\n",
        "\n",
        "model.add(Conv2D(512, (3, 3), padding='same',kernel_regularizer=regularizers.l2(weight_decay)))\n",
        "model.add(Activation('relu'))\n",
        "model.add(BatchNormalization())\n",
        "\n",
        "model.add(MaxPooling2D(pool_size=(2, 2)))\n",
        "\n",
        "\n",
        "model.add(Conv2D(512, (3, 3), padding='same',kernel_regularizer=regularizers.l2(weight_decay)))\n",
        "model.add(Activation('relu'))\n",
        "model.add(BatchNormalization())\n",
        "model.add(Dropout(0.4))\n",
        "\n",
        "model.add(Conv2D(512, (3, 3), padding='same',kernel_regularizer=regularizers.l2(weight_decay)))\n",
        "model.add(Activation('relu'))\n",
        "model.add(BatchNormalization())\n",
        "model.add(Dropout(0.4))\n",
        "\n",
        "model.add(Conv2D(512, (3, 3), padding='same',kernel_regularizer=regularizers.l2(weight_decay)))\n",
        "model.add(Activation('relu'))\n",
        "model.add(BatchNormalization())\n",
        "\n",
        "model.add(MaxPooling2D(pool_size=(2, 2)))\n",
        "model.add(Dropout(0.5))\n",
        "\n",
        "model.add(Flatten())\n",
        "model.add(Dense(512,kernel_regularizer=regularizers.l2(weight_decay)))\n",
        "model.add(Activation('relu'))\n",
        "model.add(BatchNormalization())\n",
        "\n",
        "model.add(Dropout(0.5))\n",
        "model.add(Dense(num_classes))\n",
        "model.add(Activation('softmax'))\n",
        "\n",
        "print(model.summary())\n",
        "model.compile(optimizer='adam', loss=keras.losses.categorical_crossentropy,metrics=['accuracy'])\n",
        "\n",
        "\n"
      ],
      "execution_count": 0,
      "outputs": [
        {
          "output_type": "stream",
          "text": [
            "WARNING:tensorflow:From /usr/local/lib/python3.6/dist-packages/keras/backend/tensorflow_backend.py:2041: The name tf.nn.fused_batch_norm is deprecated. Please use tf.compat.v1.nn.fused_batch_norm instead.\n",
            "\n",
            "WARNING:tensorflow:From /usr/local/lib/python3.6/dist-packages/keras/backend/tensorflow_backend.py:148: The name tf.placeholder_with_default is deprecated. Please use tf.compat.v1.placeholder_with_default instead.\n",
            "\n",
            "WARNING:tensorflow:From /usr/local/lib/python3.6/dist-packages/keras/backend/tensorflow_backend.py:3733: calling dropout (from tensorflow.python.ops.nn_ops) with keep_prob is deprecated and will be removed in a future version.\n",
            "Instructions for updating:\n",
            "Please use `rate` instead of `keep_prob`. Rate should be set to `rate = 1 - keep_prob`.\n",
            "WARNING:tensorflow:From /usr/local/lib/python3.6/dist-packages/keras/backend/tensorflow_backend.py:4267: The name tf.nn.max_pool is deprecated. Please use tf.nn.max_pool2d instead.\n",
            "\n",
            "Model: \"sequential_5\"\n",
            "_________________________________________________________________\n",
            "Layer (type)                 Output Shape              Param #   \n",
            "=================================================================\n",
            "conv2d_1 (Conv2D)            (None, 32, 32, 64)        1792      \n",
            "_________________________________________________________________\n",
            "activation_20 (Activation)   (None, 32, 32, 64)        0         \n",
            "_________________________________________________________________\n",
            "batch_normalization_1 (Batch (None, 32, 32, 64)        256       \n",
            "_________________________________________________________________\n",
            "dropout_1 (Dropout)          (None, 32, 32, 64)        0         \n",
            "_________________________________________________________________\n",
            "conv2d_2 (Conv2D)            (None, 32, 32, 64)        36928     \n",
            "_________________________________________________________________\n",
            "activation_21 (Activation)   (None, 32, 32, 64)        0         \n",
            "_________________________________________________________________\n",
            "batch_normalization_2 (Batch (None, 32, 32, 64)        256       \n",
            "_________________________________________________________________\n",
            "max_pooling2d_1 (MaxPooling2 (None, 16, 16, 64)        0         \n",
            "_________________________________________________________________\n",
            "conv2d_3 (Conv2D)            (None, 16, 16, 128)       73856     \n",
            "_________________________________________________________________\n",
            "activation_22 (Activation)   (None, 16, 16, 128)       0         \n",
            "_________________________________________________________________\n",
            "batch_normalization_3 (Batch (None, 16, 16, 128)       512       \n",
            "_________________________________________________________________\n",
            "dropout_2 (Dropout)          (None, 16, 16, 128)       0         \n",
            "_________________________________________________________________\n",
            "conv2d_4 (Conv2D)            (None, 16, 16, 128)       147584    \n",
            "_________________________________________________________________\n",
            "activation_23 (Activation)   (None, 16, 16, 128)       0         \n",
            "_________________________________________________________________\n",
            "batch_normalization_4 (Batch (None, 16, 16, 128)       512       \n",
            "_________________________________________________________________\n",
            "max_pooling2d_2 (MaxPooling2 (None, 8, 8, 128)         0         \n",
            "_________________________________________________________________\n",
            "conv2d_5 (Conv2D)            (None, 8, 8, 256)         295168    \n",
            "_________________________________________________________________\n",
            "activation_24 (Activation)   (None, 8, 8, 256)         0         \n",
            "_________________________________________________________________\n",
            "batch_normalization_5 (Batch (None, 8, 8, 256)         1024      \n",
            "_________________________________________________________________\n",
            "dropout_3 (Dropout)          (None, 8, 8, 256)         0         \n",
            "_________________________________________________________________\n",
            "conv2d_6 (Conv2D)            (None, 8, 8, 256)         590080    \n",
            "_________________________________________________________________\n",
            "activation_25 (Activation)   (None, 8, 8, 256)         0         \n",
            "_________________________________________________________________\n",
            "batch_normalization_6 (Batch (None, 8, 8, 256)         1024      \n",
            "_________________________________________________________________\n",
            "dropout_4 (Dropout)          (None, 8, 8, 256)         0         \n",
            "_________________________________________________________________\n",
            "conv2d_7 (Conv2D)            (None, 8, 8, 256)         590080    \n",
            "_________________________________________________________________\n",
            "activation_26 (Activation)   (None, 8, 8, 256)         0         \n",
            "_________________________________________________________________\n",
            "batch_normalization_7 (Batch (None, 8, 8, 256)         1024      \n",
            "_________________________________________________________________\n",
            "max_pooling2d_3 (MaxPooling2 (None, 4, 4, 256)         0         \n",
            "_________________________________________________________________\n",
            "conv2d_8 (Conv2D)            (None, 4, 4, 512)         1180160   \n",
            "_________________________________________________________________\n",
            "activation_27 (Activation)   (None, 4, 4, 512)         0         \n",
            "_________________________________________________________________\n",
            "batch_normalization_8 (Batch (None, 4, 4, 512)         2048      \n",
            "_________________________________________________________________\n",
            "dropout_5 (Dropout)          (None, 4, 4, 512)         0         \n",
            "_________________________________________________________________\n",
            "conv2d_9 (Conv2D)            (None, 4, 4, 512)         2359808   \n",
            "_________________________________________________________________\n",
            "activation_28 (Activation)   (None, 4, 4, 512)         0         \n",
            "_________________________________________________________________\n",
            "batch_normalization_9 (Batch (None, 4, 4, 512)         2048      \n",
            "_________________________________________________________________\n",
            "dropout_6 (Dropout)          (None, 4, 4, 512)         0         \n",
            "_________________________________________________________________\n",
            "conv2d_10 (Conv2D)           (None, 4, 4, 512)         2359808   \n",
            "_________________________________________________________________\n",
            "activation_29 (Activation)   (None, 4, 4, 512)         0         \n",
            "_________________________________________________________________\n",
            "batch_normalization_10 (Batc (None, 4, 4, 512)         2048      \n",
            "_________________________________________________________________\n",
            "max_pooling2d_4 (MaxPooling2 (None, 2, 2, 512)         0         \n",
            "_________________________________________________________________\n",
            "conv2d_11 (Conv2D)           (None, 2, 2, 512)         2359808   \n",
            "_________________________________________________________________\n",
            "activation_30 (Activation)   (None, 2, 2, 512)         0         \n",
            "_________________________________________________________________\n",
            "batch_normalization_11 (Batc (None, 2, 2, 512)         2048      \n",
            "_________________________________________________________________\n",
            "dropout_7 (Dropout)          (None, 2, 2, 512)         0         \n",
            "_________________________________________________________________\n",
            "conv2d_12 (Conv2D)           (None, 2, 2, 512)         2359808   \n",
            "_________________________________________________________________\n",
            "activation_31 (Activation)   (None, 2, 2, 512)         0         \n",
            "_________________________________________________________________\n",
            "batch_normalization_12 (Batc (None, 2, 2, 512)         2048      \n",
            "_________________________________________________________________\n",
            "dropout_8 (Dropout)          (None, 2, 2, 512)         0         \n",
            "_________________________________________________________________\n",
            "conv2d_13 (Conv2D)           (None, 2, 2, 512)         2359808   \n",
            "_________________________________________________________________\n",
            "activation_32 (Activation)   (None, 2, 2, 512)         0         \n",
            "_________________________________________________________________\n",
            "batch_normalization_13 (Batc (None, 2, 2, 512)         2048      \n",
            "_________________________________________________________________\n",
            "max_pooling2d_5 (MaxPooling2 (None, 1, 1, 512)         0         \n",
            "_________________________________________________________________\n",
            "dropout_9 (Dropout)          (None, 1, 1, 512)         0         \n",
            "_________________________________________________________________\n",
            "flatten_1 (Flatten)          (None, 512)               0         \n",
            "_________________________________________________________________\n",
            "dense_20 (Dense)             (None, 512)               262656    \n",
            "_________________________________________________________________\n",
            "activation_33 (Activation)   (None, 512)               0         \n",
            "_________________________________________________________________\n",
            "batch_normalization_14 (Batc (None, 512)               2048      \n",
            "_________________________________________________________________\n",
            "dropout_10 (Dropout)         (None, 512)               0         \n",
            "_________________________________________________________________\n",
            "dense_21 (Dense)             (None, 10)                5130      \n",
            "_________________________________________________________________\n",
            "activation_34 (Activation)   (None, 10)                0         \n",
            "=================================================================\n",
            "Total params: 15,001,418\n",
            "Trainable params: 14,991,946\n",
            "Non-trainable params: 9,472\n",
            "_________________________________________________________________\n",
            "None\n"
          ],
          "name": "stdout"
        }
      ]
    },
    {
      "cell_type": "code",
      "metadata": {
        "trusted": true,
        "id": "C3Lk7igugPqR",
        "colab_type": "code",
        "colab": {}
      },
      "source": [
        "X_train2 = X_train_origin/255\n",
        "X_test2 = X_test_origin/255\n"
      ],
      "execution_count": 0,
      "outputs": []
    },
    {
      "cell_type": "markdown",
      "metadata": {
        "id": "qutv3CBagPqX",
        "colab_type": "text"
      },
      "source": [
        "##### Utilisation d'un modèle pré-entrainé\n",
        "\n",
        "Le modèle ci-dessus a été pré-entrainé par mes soins (sur une dizaine d'époques). La phase d'apprentissage est en effet très longue, il est donc illusoire aboutir à un résultat concluant en quelques dizaines de minutes. Il convient de charger les \"poids\" calculés du modèle puis de le jouer sur les données de test."
      ]
    },
    {
      "cell_type": "code",
      "metadata": {
        "colab_type": "code",
        "id": "q4JkrSq_2wZg",
        "outputId": "8626ba33-373b-4d57-9b6d-407b8dc98e7e",
        "colab": {
          "base_uri": "https://localhost:8080/",
          "height": 122
        }
      },
      "source": [
        "from google.colab import drive\n",
        "drive.mount('/content/gdrive')"
      ],
      "execution_count": 0,
      "outputs": [
        {
          "output_type": "stream",
          "text": [
            "Go to this URL in a browser: https://accounts.google.com/o/oauth2/auth?client_id=947318989803-6bn6qk8qdgf4n4g3pfee6491hc0brc4i.apps.googleusercontent.com&redirect_uri=urn%3aietf%3awg%3aoauth%3a2.0%3aoob&response_type=code&scope=email%20https%3a%2f%2fwww.googleapis.com%2fauth%2fdocs.test%20https%3a%2f%2fwww.googleapis.com%2fauth%2fdrive%20https%3a%2f%2fwww.googleapis.com%2fauth%2fdrive.photos.readonly%20https%3a%2f%2fwww.googleapis.com%2fauth%2fpeopleapi.readonly\n",
            "\n",
            "Enter your authorization code:\n",
            "··········\n",
            "Mounted at /content/gdrive\n"
          ],
          "name": "stdout"
        }
      ]
    },
    {
      "cell_type": "code",
      "metadata": {
        "trusted": true,
        "id": "X_P8ET2MgPqZ",
        "colab_type": "code",
        "colab": {}
      },
      "source": [
        "model.load_weights(\"/content/gdrive/My Drive/docs/weight_vgg-11.h5\") \n",
        "\n"
      ],
      "execution_count": 0,
      "outputs": []
    },
    {
      "cell_type": "code",
      "metadata": {
        "id": "f1EZykadzCb1",
        "colab_type": "code",
        "colab": {}
      },
      "source": [
        "#training = model.fit(X_train2, Y_train, epochs=10, batch_size=32)"
      ],
      "execution_count": 0,
      "outputs": []
    },
    {
      "cell_type": "code",
      "metadata": {
        "trusted": true,
        "id": "pLVVJW0qgPqd",
        "colab_type": "code",
        "outputId": "98cdf617-2bde-4735-f868-a3c7fbc77053",
        "colab": {
          "base_uri": "https://localhost:8080/",
          "height": 51
        }
      },
      "source": [
        "scores = model.evaluate(X_test2, Y_test, verbose=1)\n",
        "print(scores)"
      ],
      "execution_count": 0,
      "outputs": [
        {
          "output_type": "stream",
          "text": [
            "10000/10000 [==============================] - 146s 15ms/step\n",
            "[1.5163719976425172, 0.8042]\n"
          ],
          "name": "stdout"
        }
      ]
    },
    {
      "cell_type": "code",
      "metadata": {
        "trusted": true,
        "id": "JsBH4BJTgPqj",
        "colab_type": "code",
        "outputId": "30fde279-9b32-48b1-b3a2-a013bd4ed730",
        "colab": {
          "base_uri": "https://localhost:8080/",
          "height": 204
        }
      },
      "source": [
        "y_pred = model.predict(X_test2, verbose=1)\n",
        "y_pred_bin=np.argmax(y_pred,axis=-1)\n",
        "confusion_matrix(Y_test_origin,y_pred_bin)"
      ],
      "execution_count": 0,
      "outputs": [
        {
          "output_type": "stream",
          "text": [
            "10000/10000 [==============================] - 141s 14ms/step\n"
          ],
          "name": "stdout"
        },
        {
          "output_type": "execute_result",
          "data": {
            "text/plain": [
              "array([[880,  26,  22,   5,  23,   0,  22,  16,   4,   2],\n",
              "       [  4, 970,   0,   0,   0,   1,   6,   2,   0,  17],\n",
              "       [ 53,   0, 622,  39, 113,  27, 105,  40,   0,   1],\n",
              "       [ 19,   9,  12, 702,  41,  48,  94,  65,   0,  10],\n",
              "       [  2,   0,   2,  31, 886,   3,  41,  35,   0,   0],\n",
              "       [  4,   4,   7, 211,  42, 611,  38,  81,   0,   2],\n",
              "       [  3,   2,   6,  30,   8,   5, 941,   5,   0,   0],\n",
              "       [  5,   1,   5,  11,  33,  10,   3, 930,   0,   2],\n",
              "       [138,  89,   2,   4,  26,   1,  46,   8, 647,  39],\n",
              "       [ 24,  85,   2,   2,   2,   1,  16,  14,   1, 853]])"
            ]
          },
          "metadata": {
            "tags": []
          },
          "execution_count": 42
        }
      ]
    },
    {
      "cell_type": "code",
      "metadata": {
        "trusted": true,
        "id": "DzlXttffgPqm",
        "colab_type": "code",
        "outputId": "b868fd0d-d5a0-46f1-c64f-2f5c55e56370",
        "colab": {
          "base_uri": "https://localhost:8080/",
          "height": 187
        }
      },
      "source": [
        "#matrice de confusion\n",
        "conf = confusion_matrix(Y_test_origin,y_pred_bin)/1000*100\n",
        "print(conf)"
      ],
      "execution_count": 0,
      "outputs": [
        {
          "output_type": "stream",
          "text": [
            "[[88.   2.6  2.2  0.5  2.3  0.   2.2  1.6  0.4  0.2]\n",
            " [ 0.4 97.   0.   0.   0.   0.1  0.6  0.2  0.   1.7]\n",
            " [ 5.3  0.  62.2  3.9 11.3  2.7 10.5  4.   0.   0.1]\n",
            " [ 1.9  0.9  1.2 70.2  4.1  4.8  9.4  6.5  0.   1. ]\n",
            " [ 0.2  0.   0.2  3.1 88.6  0.3  4.1  3.5  0.   0. ]\n",
            " [ 0.4  0.4  0.7 21.1  4.2 61.1  3.8  8.1  0.   0.2]\n",
            " [ 0.3  0.2  0.6  3.   0.8  0.5 94.1  0.5  0.   0. ]\n",
            " [ 0.5  0.1  0.5  1.1  3.3  1.   0.3 93.   0.   0.2]\n",
            " [13.8  8.9  0.2  0.4  2.6  0.1  4.6  0.8 64.7  3.9]\n",
            " [ 2.4  8.5  0.2  0.2  0.2  0.1  1.6  1.4  0.1 85.3]]\n"
          ],
          "name": "stdout"
        }
      ]
    },
    {
      "cell_type": "code",
      "metadata": {
        "trusted": true,
        "id": "1aU2n4pIgPqq",
        "colab_type": "code",
        "outputId": "f76cc04f-a979-414c-fae5-77aa004b398e",
        "colab": {
          "base_uri": "https://localhost:8080/",
          "height": 597
        }
      },
      "source": [
        "fig = plt.figure()\n",
        "fig, ax = plt.subplots(figsize=(10,10))\n",
        "cax = ax.matshow(conf)\n",
        "fig.colorbar(cax)\n",
        "\n",
        "ax.set_xlabel('Predicton')\n",
        "ax.set_ylabel('Vrai')\n",
        "\n",
        "yticks = [0,1,2,3,4,5,6,7,8,9]\n",
        "xticks = [0,1,2,3,4,5,6,7,8,9]\n",
        "ax.set_yticks(yticks)\n",
        "ax.set_xticks(yticks)\n",
        "ax.set_xticklabels(labels)\n",
        "ax.set_yticklabels(labels)\n",
        "\n",
        "plt.show()"
      ],
      "execution_count": 0,
      "outputs": [
        {
          "output_type": "display_data",
          "data": {
            "text/plain": [
              "<Figure size 72x72 with 0 Axes>"
            ]
          },
          "metadata": {
            "tags": []
          }
        },
        {
          "output_type": "display_data",
          "data": {
            "image/png": "[encoded data removed]",
            "text/plain": [
              "<Figure size 720x720 with 2 Axes>"
            ]
          },
          "metadata": {
            "tags": []
          }
        }
      ]
    },
    {
      "cell_type": "markdown",
      "metadata": {
        "id": "EE_Iq5oGgPqs",
        "colab_type": "text"
      },
      "source": [
        "##### Aller plus loin et faire mieux\n",
        "\n",
        "Pour obtenir de meilleur résultats, il faudrait : \n",
        "\n",
        "* Entrainer les modèles sur plus d'époques\n",
        "* Avoir plus de données en entrée\n",
        "* Faire de la _data-augmentation_, c'est-à-dire générer des nouvelles images à partir des images existantes mais en modifiant les niveaux de zoom, en faisant quelques rotations ou des effets miroir etc. afin simuler de nouvelles images et d'aider le modèle à généraliser : En effet, si le modèle apprend à partir de données où tous les chats regardent vers la droite, pour lui, un chat qui regarde vers la gauche n'est pas un chat !! \n",
        "![image.png](https://blog.keras.io/img/imgclf/cat_data_augmentation.png) (source https://blog.keras.io/building-powerful-image-classification-models-using-very-little-data.html)\n",
        "\n"
      ]
    },
    {
      "cell_type": "markdown",
      "metadata": {
        "id": "Wd0tSm25gPqu",
        "colab_type": "text"
      },
      "source": [
        "### Ok, en réalité ce n'est pas aussi simple\n",
        "\n",
        "Il faut en effet en général passer du temps (beaucoup) pour : \n",
        "* Trouver les données\n",
        "* Explorer et nettoyer les données\n",
        "* Essayer différentes analyses, algorithmes, méthodes puis passer du temps à trouver les bons paramétrages\n",
        "* Présenter convenablement les résultats de manière compréhensible par les non datascientistes en donnant la bonne information utile (transformable en actions concrètes)\n",
        "* Et il existe beaucoup d'autres types d'algorithmes. Il n'est pas nécessaire de faire des réseaux de neurones ..."
      ]
    },
    {
      "cell_type": "markdown",
      "metadata": {
        "id": "hfO5C8HXgPqu",
        "colab_type": "text"
      },
      "source": [
        "### Pour aller plus loin\n",
        "\n",
        "\n",
        "* MOOC : L'excellente spécialisation Data Sciences de Johns Hopkins sur Coursera. https://fr.coursera.org/specializations/jhu-data-science. Une série de 10 MOOC pour apprendre les bases de R, (ré)apprendre quelques principes de bases de statistiques, de régression, de machines learning et pour réaliser quelques projets marrants \n",
        "* MOOC : La spécialisation Deep Learning sur Coursera https://fr.coursera.org/specializations/deep-learning . Une série de 5 MOOC géniaux avec Andrew NG, gourou international de l'IA, pour tout comprendre sur le Deep Learning ... et se familiariser avec Python\n",
        "* Et bien d'autres MOOC ou ressources en ligne\n",
        "* Un excellent livre (en français et en anglais) : \n",
        "\n",
        "![image.png](https://images-na.ssl-images-amazon.com/images/I/51%2BkYprYK1L._SX379_BO1,204,203,200_.jpg)\n",
        "\n",
        "\n",
        "##### Pour en savoir plus : \n",
        "\n",
        "* https://www.college-de-france.fr/media/yann-lecun/UPL7915574462521283497_lecun_20160204_college_de_france_lecon_inaugurale.pdf\n",
        "* https://www.college-de-france.fr/media/yann-lecun/UPL4485925235409209505_Intelligence_Artificielle______Y._LeCun.pdf\n",
        "* https://cvernade.wp.imt.fr/files/2015/01/Introduction.pdf\n",
        "* http://liris.cnrs.fr/christian.wolf/teaching/m2r/m2r-igi-machinelearning1.pdf"
      ]
    },
    {
      "cell_type": "markdown",
      "metadata": {
        "collapsed": true,
        "id": "n5vLp4pZgPqw",
        "colab_type": "text"
      },
      "source": [
        "\n"
      ]
    },
    {
      "cell_type": "code",
      "metadata": {
        "trusted": true,
        "id": "BHjCFuQ2gPqx",
        "colab_type": "code",
        "colab": {}
      },
      "source": [
        ""
      ],
      "execution_count": 0,
      "outputs": []
    }
  ]
}